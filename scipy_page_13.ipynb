{
  "nbformat": 4,
  "nbformat_minor": 0,
  "metadata": {
    "colab": {
      "provenance": [],
      "authorship_tag": "ABX9TyPslSty4zw+4jtCyKMKntVj",
      "include_colab_link": true
    },
    "kernelspec": {
      "name": "python3",
      "display_name": "Python 3"
    },
    "language_info": {
      "name": "python"
    }
  },
  "cells": [
    {
      "cell_type": "markdown",
      "metadata": {
        "id": "view-in-github",
        "colab_type": "text"
      },
      "source": [
        "<a href=\"https://colab.research.google.com/github/WYSTANich/PDA_sol-/blob/main/scipy_page_13.ipynb\" target=\"_parent\"><img src=\"https://colab.research.google.com/assets/colab-badge.svg\" alt=\"Open In Colab\"/></a>"
      ]
    },
    {
      "cell_type": "markdown",
      "source": [
        "Решение задач линейной алгебры в библиотеке SCIPY, 12 номер по списку"
      ],
      "metadata": {
        "id": "H6BJakWc9geV"
      }
    },
    {
      "cell_type": "code",
      "source": [
        "#Задание1\n",
        "import numpy as np\n",
        "A = np.array([[2, 3 + 28, 4 - 1],\n",
        "              [7, 3, 2],\n",
        "              [5, 10 * 1, -2]])\n",
        "\n",
        "B = np.array([[7, -3, 4 + 1],\n",
        "              [28, 4, 2],\n",
        "              [5 * 1, 10, -2]])\n",
        "\n",
        "C = np.array([[-1, 3 + 1, 4 - 2],\n",
        "              [2, 1, 2],\n",
        "              [5, 5 - 1, -2]])\n",
        "result_ABC = A @ B @ C\n",
        "\n",
        "print(\"A * B * C =\")\n",
        "print(result_ABC)"
      ],
      "metadata": {
        "colab": {
          "base_uri": "https://localhost:8080/"
        },
        "id": "-shLZgTv9lRh",
        "outputId": "c05c0dce-d189-404e-caf1-9f3311f0d406"
      },
      "execution_count": null,
      "outputs": [
        {
          "output_type": "stream",
          "name": "stdout",
          "text": [
            "A * B * C =\n",
            "[[-271 4000 1958]\n",
            " [  64  731  234]\n",
            " [ -50 1421  522]]\n"
          ]
        }
      ]
    },
    {
      "cell_type": "code",
      "source": [
        "#Задание 2\n",
        "from scipy.linalg import det, eig, inv\n",
        "G = np.array([[2, 3 + 28, 4 + 1, 6],\n",
        "              [7 + 1, 3, 2, 12],\n",
        "              [5, -2, 16, 1 + 1],\n",
        "              [2, 7, 11, -6]])\n",
        "det_G = det(G)\n",
        "eigenvalues_G, _ = eig(G)\n",
        "inverse_G = inv(G)\n",
        "print(\"\\nОпределитель G:\", det_G)\n",
        "print(\"\\nВектор собственных значений G:\")\n",
        "print(eigenvalues_G)\n",
        "print(inverse_G)\n",
        "\n",
        "\n"
      ],
      "metadata": {
        "colab": {
          "base_uri": "https://localhost:8080/"
        },
        "id": "Omq41K7NBOci",
        "outputId": "3d723afe-b38b-4337-e2ca-ae0bb91f8945"
      },
      "execution_count": null,
      "outputs": [
        {
          "output_type": "stream",
          "name": "stdout",
          "text": [
            "\n",
            "Определитель G: 23832.000000000007\n",
            "\n",
            "Вектор собственных значений G:\n",
            "[ 25.3017166 +0.j -16.85549931+0.j  -4.88519314+0.j  11.43897585+0.j]\n",
            "[[-0.08215844  0.18680765 -0.1611279   0.23774757]\n",
            " [ 0.02517623  0.00302115 -0.02416918  0.02316213]\n",
            " [ 0.02324606 -0.05387714  0.09768379 -0.05194696]\n",
            " [ 0.04460389 -0.03298087  0.09718026 -0.15563108]]\n"
          ]
        }
      ]
    },
    {
      "cell_type": "code",
      "source": [
        "#Задание 3\n",
        "from scipy.linalg import solve\n",
        "A = np.array([[2, -5, 7],\n",
        "              [8, 1, 9],\n",
        "              [3, -4, 12]])\n",
        "\n",
        "C = np.array([[-25, -17, 78],\n",
        "              [11, 89, 76],\n",
        "              [-5, 24, 115]])\n",
        "B = solve(A, C)\n",
        "\n",
        "print(\"Искомая матрица B:\")\n",
        "print(B)"
      ],
      "metadata": {
        "colab": {
          "base_uri": "https://localhost:8080/"
        },
        "id": "chqVJrq0BOUy",
        "outputId": "7c16d9c1-94a2-44d7-ef82-98f1db106192"
      },
      "execution_count": null,
      "outputs": [
        {
          "output_type": "stream",
          "name": "stdout",
          "text": [
            "Искомая матрица B:\n",
            "[[-3.  4.  1.]\n",
            " [ 8. 12. -4.]\n",
            " [ 3.  5.  8.]]\n"
          ]
        }
      ]
    },
    {
      "cell_type": "code",
      "source": [
        "#Задание 4\n",
        "coefficients = np.array([[3, 1, 1, 3],\n",
        "                         [1, -1, 2, 4],\n",
        "                         [-5, 0, -1, -7],\n",
        "                         [1, -6, 28, 6]])\n",
        "r_s = np.array([28, 7, -5, 3])\n",
        "res = solve(coefficients, r_s)\n",
        "print(res)"
      ],
      "metadata": {
        "colab": {
          "base_uri": "https://localhost:8080/"
        },
        "id": "FZDiDqPNEv4q",
        "outputId": "6506c7b0-6f35-4dca-9369-3c572f348c12"
      },
      "execution_count": null,
      "outputs": [
        {
          "output_type": "stream",
          "name": "stdout",
          "text": [
            "[-17.775   37.6      6.1125  12.5375]\n"
          ]
        }
      ]
    }
  ]
}