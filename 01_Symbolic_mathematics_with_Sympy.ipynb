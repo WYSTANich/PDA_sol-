{
  "cells": [
    {
      "cell_type": "markdown",
      "metadata": {
        "id": "view-in-github",
        "colab_type": "text"
      },
      "source": [
        "<a href=\"https://colab.research.google.com/github/WYSTANich/PDA_sol-/blob/main/01_Symbolic_mathematics_with_Sympy.ipynb\" target=\"_parent\"><img src=\"https://colab.research.google.com/assets/colab-badge.svg\" alt=\"Open In Colab\"/></a>"
      ]
    },
    {
      "cell_type": "code",
      "execution_count": 22,
      "metadata": {
        "id": "Q9zsEu-_pbS_"
      },
      "outputs": [],
      "source": [
        "import sympy as sym\n",
        "from sympy import symbols, simplify, factor, solve, Eq, limit"
      ]
    },
    {
      "cell_type": "markdown",
      "metadata": {
        "id": "vyGwee5TpbTD"
      },
      "source": [
        "---\n",
        "**УПРАЖНЕНИЕ 1** Используйте Sympy, чтобы проверить следующие выражения:\n",
        "\n",
        "- $(a - b) ^ 2 = a ^ 2 - 2 a b + b^2$\n",
        "- $a ^ 2 - b ^ 2 = (a - b) (a + b)$ (вместо использования `expand` попробуйте `factor`)"
      ]
    },
    {
      "cell_type": "code",
      "source": [
        "a, b = symbols('a b')\n",
        "expr1 = (a - b)**2\n",
        "expanded_expr1 = simplify(expr1)\n",
        "expr2 = a**2 - b**2\n",
        "factored_expr2 = factor(expr2)\n",
        "print(\" 1: (a - b)^2 = a^2 - 2ab + b^2\")\n",
        "print(\" выражение:\", expr1)\n",
        "print(\" выражение 2:\", expanded_expr1)\n",
        "print()\n",
        "\n",
        "print(\" 2: a^2 - b^2 = (a - b)(a + b)\")\n",
        "print(\" выражение:\", expr2)\n",
        "print(\" выражение 2:\", factored_expr2)"
      ],
      "metadata": {
        "colab": {
          "base_uri": "https://localhost:8080/"
        },
        "id": "IPYGjvtgvxbs",
        "outputId": "cecda978-bdb5-4124-85d1-7e72666245d2"
      },
      "execution_count": 16,
      "outputs": [
        {
          "output_type": "stream",
          "name": "stdout",
          "text": [
            " 1: (a - b)^2 = a^2 - 2ab + b^2\n",
            " выражение: (a - b)**2\n",
            " выражение 2: (a - b)**2\n",
            "\n",
            " 2: a^2 - b^2 = (a - b)(a + b)\n",
            " выражение: a**2 - b**2\n",
            " выражение 2: (a - b)*(a + b)\n"
          ]
        }
      ]
    },
    {
      "cell_type": "markdown",
      "metadata": {
        "id": "Lhw5nbeEpbTD"
      },
      "source": [
        "---\n",
        "** УПРАЖНЕНИЕ 2** Используйте Sympy, чтобы найти решения обобщенного кубического уравнения:\n",
        "\n",
        "$$a x ^ 3 + b x ^ 2 + c  x + d = 0$$\n",
        "\n",
        "---"
      ]
    },
    {
      "cell_type": "code",
      "source": [
        "x, a, b, c, d = symbols('x a b c d')\n",
        "gen_equation = a*x**3 + b*x**2 + c*x + d\n",
        "solutions = solve(gen_equation, x)\n",
        "print(\"Решения уравнения:\", solutions)"
      ],
      "metadata": {
        "colab": {
          "base_uri": "https://localhost:8080/"
        },
        "id": "YpibA1lrxDwF",
        "outputId": "3c3ff6b9-9e1e-43c4-8588-069610b4e4a0"
      },
      "execution_count": 17,
      "outputs": [
        {
          "output_type": "stream",
          "name": "stdout",
          "text": [
            "Решения уравнения: [-(-3*c/a + b**2/a**2)/(3*(sqrt(-4*(-3*c/a + b**2/a**2)**3 + (27*d/a - 9*b*c/a**2 + 2*b**3/a**3)**2)/2 + 27*d/(2*a) - 9*b*c/(2*a**2) + b**3/a**3)**(1/3)) - (sqrt(-4*(-3*c/a + b**2/a**2)**3 + (27*d/a - 9*b*c/a**2 + 2*b**3/a**3)**2)/2 + 27*d/(2*a) - 9*b*c/(2*a**2) + b**3/a**3)**(1/3)/3 - b/(3*a), -(-3*c/a + b**2/a**2)/(3*(-1/2 - sqrt(3)*I/2)*(sqrt(-4*(-3*c/a + b**2/a**2)**3 + (27*d/a - 9*b*c/a**2 + 2*b**3/a**3)**2)/2 + 27*d/(2*a) - 9*b*c/(2*a**2) + b**3/a**3)**(1/3)) - (-1/2 - sqrt(3)*I/2)*(sqrt(-4*(-3*c/a + b**2/a**2)**3 + (27*d/a - 9*b*c/a**2 + 2*b**3/a**3)**2)/2 + 27*d/(2*a) - 9*b*c/(2*a**2) + b**3/a**3)**(1/3)/3 - b/(3*a), -(-3*c/a + b**2/a**2)/(3*(-1/2 + sqrt(3)*I/2)*(sqrt(-4*(-3*c/a + b**2/a**2)**3 + (27*d/a - 9*b*c/a**2 + 2*b**3/a**3)**2)/2 + 27*d/(2*a) - 9*b*c/(2*a**2) + b**3/a**3)**(1/3)) - (-1/2 + sqrt(3)*I/2)*(sqrt(-4*(-3*c/a + b**2/a**2)**3 + (27*d/a - 9*b*c/a**2 + 2*b**3/a**3)**2)/2 + 27*d/(2*a) - 9*b*c/(2*a**2) + b**3/a**3)**(1/3)/3 - b/(3*a)]\n"
          ]
        }
      ]
    },
    {
      "cell_type": "markdown",
      "metadata": {
        "id": "oWJ-CSKMpbTE"
      },
      "source": [
        "---\n",
        "** УПРАЖНЕНИЕ 3** Используйте Sympy, чтобы найти решения следующих уравнений:\n",
        "\n",
        "- $x ^ 2 == 2$ in $\\mathbb{N}$;\n",
        "- $x ^ 3 + 2 x = 0$ in $\\mathbb{R}$.\n",
        "\n",
        "---"
      ]
    },
    {
      "cell_type": "code",
      "source": [
        "\n",
        "x = symbols('x')\n",
        "equation1 = Eq(x**2, 2)\n",
        "solutions1 = solve(equation1, x)\n",
        "print(\"Решения:\", solutions1)"
      ],
      "metadata": {
        "colab": {
          "base_uri": "https://localhost:8080/"
        },
        "id": "Amjr1nsTyOni",
        "outputId": "806d5512-8dea-4625-eaeb-b3b23634238f"
      },
      "execution_count": 20,
      "outputs": [
        {
          "output_type": "stream",
          "name": "stdout",
          "text": [
            "Решения: [-sqrt(2), sqrt(2)]\n"
          ]
        }
      ]
    },
    {
      "cell_type": "code",
      "source": [
        "equation2 = Eq(x**3 + 2*x, 0)\n",
        "solutions2 = solve(equation2, x)\n",
        "print(\"Решения:\", solutions2)"
      ],
      "metadata": {
        "colab": {
          "base_uri": "https://localhost:8080/"
        },
        "id": "f1d_Iu7-ygKv",
        "outputId": "2e9158ca-4857-4426-8a49-4862611f577b"
      },
      "execution_count": 21,
      "outputs": [
        {
          "output_type": "stream",
          "name": "stdout",
          "text": [
            "Решения: [0, -sqrt(2)*I, sqrt(2)*I]\n"
          ]
        }
      ]
    },
    {
      "cell_type": "markdown",
      "metadata": {
        "id": "XP_z2t2HpbTE"
      },
      "source": [
        "---\n",
        "**УПРАЖНЕНИЕ 4** Рассчитайте следующие пределы:\n",
        "\n",
        "1. $\\lim_{x\\to 0^-}\\frac{1}{x}$\n",
        "2.  $\\lim_{x\\to 0}\\frac{1}{x^2}$\n",
        "\n",
        "---"
      ]
    },
    {
      "cell_type": "code",
      "source": [
        "x = symbols('x')\n",
        "limit1 = limit(-1/x, x, 0, dir='-')\n",
        "limit2 = limit(1/x**2, x, 0, dir='+')\n",
        "print(\"Результат:\", limit1)\n",
        "print(\"Результат:\", limit2)"
      ],
      "metadata": {
        "colab": {
          "base_uri": "https://localhost:8080/"
        },
        "id": "xqdvJCJYzKe1",
        "outputId": "e5ea21c8-890e-4ee8-b08f-2a3564f72daa"
      },
      "execution_count": 23,
      "outputs": [
        {
          "output_type": "stream",
          "name": "stdout",
          "text": [
            "Результат: oo\n",
            "Результат: oo\n"
          ]
        }
      ]
    },
    {
      "cell_type": "markdown",
      "metadata": {
        "id": "TQ_fuWDkpbTF"
      },
      "source": [
        "---\n",
        "\n",
        "**УПРАЖНЕНИЕ 5** Используйте Sympy, чтобы рассчитать следующие выражения:\n",
        "\n",
        "1. $\\frac{d\\sin(x ^2)}{dx}$\n",
        "2. $\\frac{d(x ^2 + xy - \\ln(y))}{dy}$\n",
        "3. $\\int e^x \\cos(x)\\;dx$\n",
        "4. $\\int_0^5 e^{2x}\\;dx$"
      ]
    },
    {
      "cell_type": "code",
      "source": [
        "from sympy import diff, sin, ln\n",
        "x = symbols('x')\n",
        "expr1 = sin(x**2)\n",
        "der1 = diff(expr1, x)\n",
        "print(\"Производная:\", der1)"
      ],
      "metadata": {
        "colab": {
          "base_uri": "https://localhost:8080/"
        },
        "id": "Vjc0wdrzzWet",
        "outputId": "74302386-235c-4df3-d999-31aab5fd3a2c"
      },
      "execution_count": 25,
      "outputs": [
        {
          "output_type": "stream",
          "name": "stdout",
          "text": [
            "Производная: 2*x*cos(x**2)\n"
          ]
        }
      ]
    },
    {
      "cell_type": "code",
      "source": [
        "x, y = symbols('x y')\n",
        "expr2 = x**2 + x*y - ln(y)\n",
        "der2 = diff(expr2, y)\n",
        "print(\"производая:\", der2)"
      ],
      "metadata": {
        "colab": {
          "base_uri": "https://localhost:8080/"
        },
        "id": "nrva8_Mwz5kX",
        "outputId": "2b825a8f-cdea-44e8-9fd1-22ed6e50716c"
      },
      "execution_count": 28,
      "outputs": [
        {
          "output_type": "stream",
          "name": "stdout",
          "text": [
            "производая: x - 1/y\n"
          ]
        }
      ]
    },
    {
      "cell_type": "code",
      "source": [
        "from sympy import integrate, exp, cos\n",
        "x = symbols('x')\n",
        "expr3 = exp(x) * cos(x)\n",
        "integral3 = integrate(expr3, x)\n",
        "print(\"интеграл:\", integral3)"
      ],
      "metadata": {
        "colab": {
          "base_uri": "https://localhost:8080/"
        },
        "id": "o5PDtCWd0Frs",
        "outputId": "b2b7e234-c9c8-4644-8ba9-986392657bda"
      },
      "execution_count": 31,
      "outputs": [
        {
          "output_type": "stream",
          "name": "stdout",
          "text": [
            "Интеграл: exp(x)*sin(x)/2 + exp(x)*cos(x)/2\n"
          ]
        }
      ]
    },
    {
      "cell_type": "code",
      "source": [
        "expr4 = 5 * exp(2*x)\n",
        "integral4 = integrate(expr4, x)\n",
        "print(\"Интеграл:\", integral4)"
      ],
      "metadata": {
        "colab": {
          "base_uri": "https://localhost:8080/"
        },
        "id": "mdn7SiJW0TvQ",
        "outputId": "8974c7d1-dab1-4d5b-e41a-c070cfc9f71b"
      },
      "execution_count": 32,
      "outputs": [
        {
          "output_type": "stream",
          "name": "stdout",
          "text": [
            "Интеграл: 5*exp(2*x)/2\n"
          ]
        }
      ]
    },
    {
      "cell_type": "markdown",
      "metadata": {
        "id": "D5mv8sDXpbTJ"
      },
      "source": [
        "---\n",
        "**УПРАЖНЕНИЕ 6** Постройте графики следующих функций:\n",
        "\n",
        "- $y=x + cos(x)$\n",
        "- $y=x ^ 2 - e^x$ (вам может пригодиться `ylim` в качестве аргумента)\n",
        "\n",
        "Поэкспериментируйте с сохранением графиков в файл.."
      ]
    },
    {
      "cell_type": "code",
      "source": [
        "from sympy import  plot\n",
        "x, y = symbols('x y')\n",
        "func1 = x + cos(x)\n",
        "func2 = x**2 - exp(x)\n",
        "graph1 = plot(func1, (x, *x_range), show=False, title='Graph of y = x + cos(x)', legend=True, label='y = x + cos(x)')\n",
        "graph2 = plot(func2, (x, *x_range), show=False, title='Graph of y = x^2 - e^x', legend=True, label='y = x^2 - e^x', ylim=y_range)\n",
        "graph1.show()\n",
        "graph2.show()\n",
        "limit1 = limit(-1/x, x, 0, dir='-')\n",
        "limit2 = limit(1/x**2, x, 0, dir='+')\n",
        "derivative = diff(sin(x**2), x)\n",
        "integral = integrate(exp(x)*cos(x), x)\n"
      ],
      "metadata": {
        "colab": {
          "base_uri": "https://localhost:8080/",
          "height": 957
        },
        "id": "1pS3ke8G0-pZ",
        "outputId": "ec8a657d-09aa-4c8b-9996-86c053849518"
      },
      "execution_count": 37,
      "outputs": [
        {
          "output_type": "display_data",
          "data": {
            "text/plain": [
              "<Figure size 640x480 with 1 Axes>"
            ],
            "image/png": "[encoded data removed]"
          },
          "metadata": {}
        },
        {
          "output_type": "display_data",
          "data": {
            "text/plain": [
              "<Figure size 640x480 with 1 Axes>"
            ],
            "image/png": "[encoded data removed]"
          },
          "metadata": {}
        }
      ]
    }
  ],
  "metadata": {
    "anaconda-cloud": {},
    "celltoolbar": "Tags",
    "kernelspec": {
      "display_name": "Python [conda env:mwp]",
      "language": "python",
      "name": "conda-env-mwp-py"
    },
    "language_info": {
      "codemirror_mode": {
        "name": "ipython",
        "version": 3
      },
      "file_extension": ".py",
      "mimetype": "text/x-python",
      "name": "python",
      "nbconvert_exporter": "python",
      "pygments_lexer": "ipython3",
      "version": "3.7.0"
    },
    "colab": {
      "provenance": [],
      "include_colab_link": true
    }
  },
  "nbformat": 4,
  "nbformat_minor": 0
}