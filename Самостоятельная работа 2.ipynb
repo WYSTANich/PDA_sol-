{
  "cells": [
    {
      "cell_type": "markdown",
      "metadata": {
        "id": "view-in-github",
        "colab_type": "text"
      },
      "source": [
        "<a href=\"https://colab.research.google.com/github/WYSTANich/PDA_sol-/blob/main/%D0%A1%D0%B0%D0%BC%D0%BE%D1%81%D1%82%D0%BE%D1%8F%D1%82%D0%B5%D0%BB%D1%8C%D0%BD%D0%B0%D1%8F%20%D1%80%D0%B0%D0%B1%D0%BE%D1%82%D0%B0%202.ipynb\" target=\"_parent\"><img src=\"https://colab.research.google.com/assets/colab-badge.svg\" alt=\"Open In Colab\"/></a>"
      ]
    },
    {
      "cell_type": "markdown",
      "metadata": {
        "id": "xzPxzi3AFqwF"
      },
      "source": [
        "# Самостоятельная работа 2. Numpy\n",
        "\n",
        "1. Скачайте этот ноутбук к себе.\n",
        "2. Заполните пропущенные ячейки, отвечая на заданные вопросы. Там должен быть код! (если не сказано обратное)\n",
        "3. Сохраните результат в своём гитхаб репозитории.\n",
        "\n",
        "#### Полезная литература\n",
        "\n",
        "- http://www.numpy.org/\n",
        "- https://jakevdp.github.io/PythonDataScienceHandbook/02.00-introduction-to-numpy.html\n",
        "- https://docs.scipy.org/doc/numpy/user/quickstart.html"
      ]
    },
    {
      "cell_type": "markdown",
      "metadata": {
        "id": "j0DOoqQ3FqwH"
      },
      "source": [
        "1) Импортировать numpy и написать версию"
      ]
    },
    {
      "cell_type": "code",
      "execution_count": 1,
      "metadata": {
        "colab": {
          "base_uri": "https://localhost:8080/"
        },
        "id": "ONC5CK3cFqwH",
        "outputId": "66c59cfe-f052-414e-8bcb-09cdbf12c902"
      },
      "outputs": [
        {
          "output_type": "stream",
          "name": "stdout",
          "text": [
            "1.23.5\n"
          ]
        }
      ],
      "source": [
        "import numpy as np\n",
        "\n",
        "print(np.__version__)"
      ]
    },
    {
      "cell_type": "markdown",
      "metadata": {
        "id": "9f8agxWpFqwH"
      },
      "source": [
        "2) Создать нулевой вектор размера 10"
      ]
    },
    {
      "cell_type": "code",
      "execution_count": 2,
      "metadata": {
        "colab": {
          "base_uri": "https://localhost:8080/"
        },
        "id": "KGdnv5k4FqwI",
        "outputId": "aaabcd01-f903-45fb-c6a6-c27d92445298"
      },
      "outputs": [
        {
          "output_type": "stream",
          "name": "stdout",
          "text": [
            "[0. 0. 0. 0. 0. 0. 0. 0. 0. 0.]\n"
          ]
        }
      ],
      "source": [
        "zero_vector = np.zeros(10)\n",
        "print(zero_vector)"
      ]
    },
    {
      "cell_type": "markdown",
      "metadata": {
        "id": "GlLFMAfxFqwI"
      },
      "source": [
        "3) Создать вектор заполненный 7-ами размера 7"
      ]
    },
    {
      "cell_type": "code",
      "execution_count": 7,
      "metadata": {
        "colab": {
          "base_uri": "https://localhost:8080/"
        },
        "id": "FV31v8szFqwI",
        "outputId": "0bdfa249-74e8-4603-d7d8-e88f9e7bc89a"
      },
      "outputs": [
        {
          "output_type": "stream",
          "name": "stdout",
          "text": [
            "[7 7 7 7 7 7 7]\n"
          ]
        }
      ],
      "source": [
        "vector = np.full(7, 7)\n",
        "print(vector)"
      ]
    },
    {
      "cell_type": "markdown",
      "metadata": {
        "id": "raKGVMaqFqwI"
      },
      "source": [
        "4) Создать вектор заполненный четными числами от 10 до 100"
      ]
    },
    {
      "cell_type": "code",
      "execution_count": 8,
      "metadata": {
        "colab": {
          "base_uri": "https://localhost:8080/"
        },
        "id": "tOtcBeDEFqwI",
        "outputId": "92d63c8d-e699-4690-c941-e8999065fb3a"
      },
      "outputs": [
        {
          "output_type": "stream",
          "name": "stdout",
          "text": [
            "[ 10  12  14  16  18  20  22  24  26  28  30  32  34  36  38  40  42  44\n",
            "  46  48  50  52  54  56  58  60  62  64  66  68  70  72  74  76  78  80\n",
            "  82  84  86  88  90  92  94  96  98 100]\n"
          ]
        }
      ],
      "source": [
        "start = 10\n",
        "end = 100\n",
        "step = 2\n",
        "\n",
        "even_vector = np.arange(start, end + 1, step)\n",
        "print(even_vector)"
      ]
    },
    {
      "cell_type": "markdown",
      "metadata": {
        "id": "hmRtzExqFqwI"
      },
      "source": [
        "5) Создать массив случайных чисел и развернуть его задом наперёд"
      ]
    },
    {
      "cell_type": "code",
      "execution_count": 33,
      "metadata": {
        "colab": {
          "base_uri": "https://localhost:8080/"
        },
        "id": "zYptYwbpFqwI",
        "outputId": "0985b89e-fafa-44ce-ec78-c10cb1be9414"
      },
      "outputs": [
        {
          "output_type": "execute_result",
          "data": {
            "text/plain": [
              "array([7, 3, 9, 9, 6, 8, 9, 5, 6, 9])"
            ]
          },
          "metadata": {},
          "execution_count": 33
        }
      ],
      "source": [
        "np.random.randint(1,10,size = 10)[::-1]"
      ]
    },
    {
      "cell_type": "markdown",
      "metadata": {
        "id": "GZXyGjYiFqwI"
      },
      "source": [
        "6) Создать двумерную матрицу размера 3 на 3, заполненную числами от 0 до 9"
      ]
    },
    {
      "cell_type": "code",
      "execution_count": 35,
      "metadata": {
        "colab": {
          "base_uri": "https://localhost:8080/"
        },
        "id": "2sAHNPCBFqwJ",
        "outputId": "d227e059-738e-48c6-b6de-feb052049e7c"
      },
      "outputs": [
        {
          "output_type": "stream",
          "name": "stdout",
          "text": [
            "[[0 1 2]\n",
            " [3 4 5]\n",
            " [6 7 8]]\n"
          ]
        }
      ],
      "source": [
        "matrix = np.arange(9).reshape(3, 3)\n",
        "\n",
        "print(matrix)"
      ]
    },
    {
      "cell_type": "markdown",
      "metadata": {
        "id": "wOo69ijaFqwJ"
      },
      "source": [
        "7) Создать матрицу размера 4 на 4 с единицами на диагонали смещеной на один наверх."
      ]
    },
    {
      "cell_type": "code",
      "execution_count": 36,
      "metadata": {
        "colab": {
          "base_uri": "https://localhost:8080/"
        },
        "id": "z1pSZcZHFqwJ",
        "outputId": "6dce6c55-b3dd-4580-e081-b97c33447f4e"
      },
      "outputs": [
        {
          "output_type": "execute_result",
          "data": {
            "text/plain": [
              "array([[0., 1., 0., 0.],\n",
              "       [0., 0., 1., 0.],\n",
              "       [0., 0., 0., 1.],\n",
              "       [0., 0., 0., 0.]])"
            ]
          },
          "metadata": {},
          "execution_count": 36
        }
      ],
      "source": [
        "np.eye(4, k=1)"
      ]
    },
    {
      "cell_type": "markdown",
      "metadata": {
        "id": "kLum6ioMFqwJ"
      },
      "source": [
        "8) Создать матрицу с числами в диапазоне от 1 до 4 по диагонали. В других ячейках матрицы должны быть семерки."
      ]
    },
    {
      "cell_type": "code",
      "execution_count": 23,
      "metadata": {
        "colab": {
          "base_uri": "https://localhost:8080/"
        },
        "id": "58ck9reFFqwJ",
        "outputId": "bbce9855-4a4f-47cd-f9f5-985f0b9fbd17"
      },
      "outputs": [
        {
          "output_type": "stream",
          "name": "stdout",
          "text": [
            "[[1 7 7 7]\n",
            " [7 2 7 7]\n",
            " [7 7 3 7]\n",
            " [7 7 7 4]]\n"
          ]
        }
      ],
      "source": [
        "matrix = np.full((4, 4), 7, dtype=int)\n",
        "np.fill_diagonal(matrix, np.arange(1, 5))\n",
        "print(matrix)"
      ]
    },
    {
      "cell_type": "markdown",
      "metadata": {
        "id": "URHUWtiVFqwJ"
      },
      "source": [
        "9) Создать матрицу размера 5 на 5 заполненную чилами от 0 до 4 в строках."
      ]
    },
    {
      "cell_type": "code",
      "execution_count": 24,
      "metadata": {
        "colab": {
          "base_uri": "https://localhost:8080/"
        },
        "id": "_rhN07CfFqwJ",
        "outputId": "13fb7411-8e74-4a9e-9d0f-79faf1e492d1"
      },
      "outputs": [
        {
          "output_type": "stream",
          "name": "stdout",
          "text": [
            "[[0 1 2 3 4]\n",
            " [0 1 2 3 4]\n",
            " [0 1 2 3 4]\n",
            " [0 1 2 3 4]\n",
            " [0 1 2 3 4]]\n"
          ]
        }
      ],
      "source": [
        "matrix = np.tile(np.arange(5), (5, 1))\n",
        "print(matrix)"
      ]
    },
    {
      "cell_type": "markdown",
      "metadata": {
        "id": "Oy-WUtppFqwJ"
      },
      "source": [
        "10) Создать матрицу случайных чисел размера 10 на 10 и отнять среднее по строкам из каждого элемента строки"
      ]
    },
    {
      "cell_type": "code",
      "execution_count": 46,
      "metadata": {
        "colab": {
          "base_uri": "https://localhost:8080/"
        },
        "id": "jkTp7j1KFqwJ",
        "outputId": "ea13a05c-b30b-481b-8182-0983efaa0514"
      },
      "outputs": [
        {
          "output_type": "execute_result",
          "data": {
            "text/plain": [
              "array([[-2.2, -1.2, -3.2,  3.8,  3.8,  0.8, -0.2, -2.2,  1.8, -1.2],\n",
              "       [ 1.2,  0.2, -1.8,  0.2, -1.8, -0.8,  5.2,  0.2, -3.8,  1.2],\n",
              "       [ 1.6, -1.4, -0.4,  0.6,  1.6,  1.6, -0.4, -2.4,  0.6, -1.4],\n",
              "       [-1.1,  3.9,  2.9, -3.1, -4.1,  0.9,  2.9, -4.1, -0.1,  1.9],\n",
              "       [-1. ,  1. , -4. ,  4. ,  4. ,  2. ,  0. ,  0. , -3. , -3. ],\n",
              "       [ 1.5, -1.5,  2.5, -3.5, -2.5, -2.5,  2.5,  4.5, -3.5,  2.5],\n",
              "       [-1.9, -0.9,  1.1,  3.1,  1.1,  0.1, -2.9,  3.1, -1.9, -0.9],\n",
              "       [-3.2,  1.8, -1.2, -1.2,  3.8, -2.2,  0.8, -0.2, -1.2,  2.8],\n",
              "       [-3.5,  2.5, -0.5, -3.5,  0.5,  3.5,  4.5, -1.5, -2.5,  0.5],\n",
              "       [-1.1,  2.9, -0.1, -1.1,  2.9,  0.9, -3.1, -2.1, -3.1,  3.9]])"
            ]
          },
          "metadata": {},
          "execution_count": 46
        }
      ],
      "source": [
        "matrix_10 = np.random.randint(10,size = (10, 10))\n",
        "matrix_10 - matrix_10.mean(axis=1,keepdims=True)"
      ]
    },
    {
      "cell_type": "markdown",
      "metadata": {
        "id": "tDeNF7ykFqwK"
      },
      "source": [
        "11) Создать матрицу случайных чисел размера 10 на 10 и отнять медиану по столбцам из каждого элемента столбца  "
      ]
    },
    {
      "cell_type": "code",
      "execution_count": 47,
      "metadata": {
        "colab": {
          "base_uri": "https://localhost:8080/"
        },
        "id": "t45pLs3OFqwK",
        "outputId": "daf0857d-a6f6-459a-c13c-e06453c3b406"
      },
      "outputs": [
        {
          "output_type": "execute_result",
          "data": {
            "text/plain": [
              "array([[ 4. ,  4. ,  0.5, -2.5, -1. ,  4. ,  2. ,  2. , -2. ,  4.5],\n",
              "       [ 1. ,  3. ,  0.5, -0.5, -1. , -1. , -1. , -6. , -1. , -4.5],\n",
              "       [-2. ,  1. ,  1.5, -1.5,  2. ,  0. ,  1. ,  2. ,  0. , -2.5],\n",
              "       [ 0. , -4. , -1.5,  1.5, -4. ,  3. ,  2. ,  2. , -4. , -4.5],\n",
              "       [ 0. , -3. ,  0.5,  3.5,  4. , -3. , -3. , -2. ,  0. ,  2.5],\n",
              "       [-1. ,  3. , -0.5,  2.5, -4. ,  2. , -3. , -2. ,  5. ,  0.5],\n",
              "       [ 0. , -1. , -5.5,  4.5,  4. ,  2. , -3. , -2. ,  3. ,  2.5],\n",
              "       [ 5. , -4. , -6.5, -0.5,  1. , -3. , -2. , -2. ,  5. ,  3.5],\n",
              "       [ 1. , -3. ,  2.5, -1.5,  4. ,  0. ,  5. ,  2. ,  0. , -0.5],\n",
              "       [-2. ,  4. , -3.5,  0.5, -1. ,  0. ,  2. ,  3. ,  4. , -4.5]])"
            ]
          },
          "metadata": {},
          "execution_count": 47
        }
      ],
      "source": [
        "matrix_11= np.random.randint(10,size = (10, 10))\n",
        "matrix_11 - np.median(matrix_11,axis=0,keepdims=True)"
      ]
    },
    {
      "cell_type": "markdown",
      "metadata": {
        "id": "072VduQWFqwK"
      },
      "source": [
        "12) Создать матрицу случайных чисел 5x5. Добавить к ней столбецы максимумов и минимумов по строкам. Получится матрица 5x7.  "
      ]
    },
    {
      "cell_type": "code",
      "execution_count": 48,
      "metadata": {
        "colab": {
          "base_uri": "https://localhost:8080/"
        },
        "id": "Dw8EhMc7FqwK",
        "outputId": "e1aec96f-4bca-4f6b-de05-c161ed13e40c"
      },
      "outputs": [
        {
          "output_type": "execute_result",
          "data": {
            "text/plain": [
              "array([[3, 7, 4, 2, 4, 7, 6, 1, 1, 5, 7, 1],\n",
              "       [3, 3, 7, 4, 5, 7, 6, 3, 5, 3, 7, 3],\n",
              "       [4, 8, 6, 2, 8, 6, 6, 3, 1, 3, 8, 1],\n",
              "       [0, 1, 9, 1, 3, 8, 6, 9, 8, 4, 9, 0],\n",
              "       [1, 5, 8, 0, 6, 3, 0, 1, 0, 2, 8, 0],\n",
              "       [1, 5, 2, 7, 9, 9, 2, 8, 6, 4, 9, 1],\n",
              "       [6, 6, 8, 1, 1, 1, 6, 4, 1, 8, 8, 1],\n",
              "       [6, 5, 9, 9, 0, 1, 9, 1, 2, 9, 9, 0],\n",
              "       [5, 6, 4, 7, 7, 4, 4, 5, 7, 6, 7, 4],\n",
              "       [8, 4, 5, 4, 6, 6, 0, 9, 6, 4, 9, 0]])"
            ]
          },
          "metadata": {},
          "execution_count": 48
        }
      ],
      "source": [
        "matrix_12 = np.random.randint(10,size = (10, 10))\n",
        "matrix_12.max(axis =1,keepdims=True)\n",
        "matrix_12.min(axis =1,keepdims=True)\n",
        "np.concatenate((matrix_12,matrix_12.max(axis =1,keepdims=True),matrix_12.min(axis =1,keepdims=True)),axis = 1)"
      ]
    },
    {
      "cell_type": "markdown",
      "metadata": {
        "id": "wpesEcBPFqwK"
      },
      "source": [
        "13) Вектор чисел от 1 до 51 преобразовать в вектор нечетных чисел и в вектор четных чисел, поменять их размерности, чтобы получились две матрица. Найти произведение этих матриц. Найти обратную матрицу эётого произведения.  "
      ]
    },
    {
      "cell_type": "code",
      "execution_count": 31,
      "metadata": {
        "colab": {
          "base_uri": "https://localhost:8080/"
        },
        "id": "xKdp2mKgFqwK",
        "outputId": "fb7b3bc8-b655-4fc7-b079-06ecfe577380"
      },
      "outputs": [
        {
          "output_type": "stream",
          "name": "stdout",
          "text": [
            "[[1246 1330 1414 1498]\n",
            " [2902 3130 3358 3586]\n",
            " [4558 4930 5302 5674]\n",
            " [6214 6730 7246 7762]]\n",
            "[[-3.66503876e+11  3.21853878e-04  1.09951163e+12 -7.33007752e+11]\n",
            " [-7.33007752e+11  2.19902326e+12 -2.19902326e+12  7.33007752e+11]\n",
            " [ 2.56552713e+12 -4.39804651e+12  1.09951163e+12  7.33007752e+11]\n",
            " [-1.46601550e+12  2.19902326e+12  0.00000000e+00 -7.33007752e+11]]\n"
          ]
        }
      ],
      "source": [
        "vector_1 =np.mat(np.arange(1,50)[1::2]).reshape(4,6)\n",
        "vector_2 =np.mat(np.arange(1,50)[2::2]).reshape(6,4)\n",
        "print(vector_1*vector_2)\n",
        "print(np.linalg.inv(vector_1*vector_2))"
      ]
    },
    {
      "cell_type": "markdown",
      "metadata": {
        "id": "ew5YPhj3FqwK"
      },
      "source": [
        "14) Создать 8x8 матрицу и заполнить её в шахматном порядке нулями и единицами."
      ]
    },
    {
      "cell_type": "code",
      "execution_count": 11,
      "metadata": {
        "colab": {
          "base_uri": "https://localhost:8080/"
        },
        "id": "SrSa7b0TFqwK",
        "outputId": "b1225cf4-22cd-4d00-f962-afc9990786d6"
      },
      "outputs": [
        {
          "output_type": "stream",
          "name": "stdout",
          "text": [
            "[[0 1 0 1 0 1 0 1]\n",
            " [1 0 1 0 1 0 1 0]\n",
            " [0 1 0 1 0 1 0 1]\n",
            " [1 0 1 0 1 0 1 0]\n",
            " [0 1 0 1 0 1 0 1]\n",
            " [1 0 1 0 1 0 1 0]\n",
            " [0 1 0 1 0 1 0 1]\n",
            " [1 0 1 0 1 0 1 0]]\n"
          ]
        }
      ],
      "source": [
        "chessmatrix = np.zeros((8, 8), dtype=int)\n",
        "\n",
        "chessmatrix[1::2, ::2] = 1\n",
        "chessmatrix[::2, 1::2] = 1\n",
        "\n",
        "print(chessmatrix)"
      ]
    }
  ],
  "metadata": {
    "kernelspec": {
      "display_name": "Python 3",
      "language": "python",
      "name": "python3"
    },
    "language_info": {
      "codemirror_mode": {
        "name": "ipython",
        "version": 3
      },
      "file_extension": ".py",
      "mimetype": "text/x-python",
      "name": "python",
      "nbconvert_exporter": "python",
      "pygments_lexer": "ipython3",
      "version": "3.8.0"
    },
    "colab": {
      "provenance": [],
      "include_colab_link": true
    }
  },
  "nbformat": 4,
  "nbformat_minor": 0
}