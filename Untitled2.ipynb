{
  "nbformat": 4,
  "nbformat_minor": 0,
  "metadata": {
    "colab": {
      "provenance": [],
      "authorship_tag": "ABX9TyOsEj7RuYBFHFJOjRS5YreY",
      "include_colab_link": true
    },
    "kernelspec": {
      "name": "python3",
      "display_name": "Python 3"
    },
    "language_info": {
      "name": "python"
    }
  },
  "cells": [
    {
      "cell_type": "markdown",
      "metadata": {
        "id": "view-in-github",
        "colab_type": "text"
      },
      "source": [
        "<a href=\"https://colab.research.google.com/github/WYSTANich/PDA_sol-/blob/main/Untitled2.ipynb\" target=\"_parent\"><img src=\"https://colab.research.google.com/assets/colab-badge.svg\" alt=\"Open In Colab\"/></a>"
      ]
    },
    {
      "cell_type": "code",
      "execution_count": 1,
      "metadata": {
        "colab": {
          "base_uri": "https://localhost:8080/"
        },
        "id": "Cm6RdgK9cDZa",
        "outputId": "bdd6b88a-aa7d-4dd9-8476-06671fd51a24"
      },
      "outputs": [
        {
          "output_type": "stream",
          "name": "stdout",
          "text": [
            "333 рублей можно обменять на  499.5 йен.\n"
          ]
        }
      ],
      "source": [
        "def rubles_to_yen(rubles, exchange_rate):\n",
        "    yen = round((rubles * exchange_rate), 2)\n",
        "    return yen\n",
        "rubles_amount = 333\n",
        "exchange_rate = 1.50\n",
        "\n",
        "yen_amount = rubles_to_yen(rubles_amount, exchange_rate)\n",
        "print(f\"{rubles_amount} рублей можно обменять на  {yen_amount} йен.\")"
      ]
    },
    {
      "cell_type": "code",
      "source": [
        "fio = \"LOSKUTNIKOV\"\n",
        "index = 0\n",
        "while index < len(fio):\n",
        "    letter = fio[index]\n",
        "    print(letter)\n",
        "    index += 1"
      ],
      "metadata": {
        "colab": {
          "base_uri": "https://localhost:8080/"
        },
        "id": "4oURrad2cLpq",
        "outputId": "0e556745-0e11-48d3-be9e-e9259e73f20e"
      },
      "execution_count": 3,
      "outputs": [
        {
          "output_type": "stream",
          "name": "stdout",
          "text": [
            "L\n",
            "O\n",
            "S\n",
            "K\n",
            "U\n",
            "T\n",
            "N\n",
            "I\n",
            "K\n",
            "O\n",
            "V\n"
          ]
        }
      ]
    }
  ]
}